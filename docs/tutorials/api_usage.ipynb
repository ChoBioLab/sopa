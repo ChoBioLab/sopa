{
 "cells": [
  {
   "cell_type": "code",
   "execution_count": 1,
   "metadata": {},
   "outputs": [
    {
     "name": "stderr",
     "output_type": "stream",
     "text": [
      "/Users/quentinblampey/mambaforge/envs/sopa/lib/python3.10/site-packages/numba/core/decorators.py:246: RuntimeWarning: nopython is set for njit and is ignored\n",
      "  warnings.warn('nopython is set for njit and is ignored', RuntimeWarning)\n"
     ]
    }
   ],
   "source": [
    "import spatialdata\n",
    "import sopa"
   ]
  },
  {
   "cell_type": "markdown",
   "metadata": {},
   "source": [
    "# Context\n",
    "\n",
    "Sopa is built on top of the [`spatialdata` library](https://github.com/scverse/spatialdata), the core **scverse** data structure.\n",
    "\n",
    "It means that Sopa will manipulate `SpatialData` objects, that we usually denote by `sdata`. For users familiar with `anndata`, `spatialdata` can be seen as an extension for spatial omics.\n",
    "\n",
    "All the functions from `SpatialData` are therefore also available. For instance, at any time of the pipeline below, you can save your object via `sdata.write(\"data.zarr\")` and load it via `spatialdata.read_zarr(\"data.zarr\")`."
   ]
  },
  {
   "cell_type": "markdown",
   "metadata": {},
   "source": [
    "## Create a SpatialData object\n",
    "\n",
    "For this tutorial, we use a generated dataset.\n",
    "\n",
    "To load your own data, you need to use the function from [`sopa.io`](../../api/io) that is specific to your technology.\n",
    "\n",
    "> For instance, for MERSCOPE data, use `sdata = sopa.io.merscope(\"/path/to/region_0\")`."
   ]
  },
  {
   "cell_type": "code",
   "execution_count": 33,
   "metadata": {},
   "outputs": [
    {
     "name": "stderr",
     "output_type": "stream",
     "text": [
      "\u001b[36;20m[INFO] (sopa.utils.data)\u001b[0m Image of size ((4, 2048, 2048)) with 400 cells and 100 transcripts per cell\n"
     ]
    },
    {
     "data": {
      "text/plain": [
       "SpatialData object\n",
       "├── Images\n",
       "│     └── 'image': DataArray[cyx] (4, 2048, 2048)\n",
       "├── Points\n",
       "│     └── 'transcripts': DataFrame with shape: (<Delayed>, 5) (3D points)\n",
       "└── Shapes\n",
       "      └── 'cells': GeoDataFrame shape: (400, 1) (2D shapes)\n",
       "with coordinate systems:\n",
       "    ▸ 'global', with elements:\n",
       "        image (Images), transcripts (Points), cells (Shapes)\n",
       "    ▸ 'microns', with elements:\n",
       "        transcripts (Points)"
      ]
     },
     "execution_count": 33,
     "metadata": {},
     "output_type": "execute_result"
    }
   ],
   "source": [
    "sdata = sopa.io.toy_dataset() # you can use `sopa.io.merscope` / `sopa.io.xenium` / ...\n",
    "\n",
    "sdata"
   ]
  },
  {
   "cell_type": "markdown",
   "metadata": {},
   "source": [
    "# Tissue segmentation\n",
    "\n",
    "Before cell segmentation, it is possible to perform tissue segmentation. This way, later on, we will run cell segmentation only over the tissue, not outside."
   ]
  },
  {
   "cell_type": "code",
   "execution_count": null,
   "metadata": {},
   "outputs": [],
   "source": []
  },
  {
   "cell_type": "markdown",
   "metadata": {},
   "source": [
    "## Cell segmentation"
   ]
  },
  {
   "cell_type": "markdown",
   "metadata": {},
   "source": [
    "### Option 1: Cellpose"
   ]
  },
  {
   "cell_type": "markdown",
   "metadata": {},
   "source": [
    "First, we generate the bounding boxes of the patches on which Cellpose will be run. Here, the patches have a width and height of 1500 pixels and an overlap of 50 pixels. We advise bigger sizes for real datasets (see our default parameters in one of our [config files](https://github.com/gustaveroussy/sopa/tree/master/workflow/config)). On the toy dataset, this will generate **4** patches."
   ]
  },
  {
   "cell_type": "code",
   "execution_count": 34,
   "metadata": {},
   "outputs": [
    {
     "name": "stderr",
     "output_type": "stream",
     "text": [
      "\u001b[36;20m[INFO] (sopa.patches.patches)\u001b[0m 4 patches were saved in sdata['sopa_patches']\n"
     ]
    }
   ],
   "source": [
    "sopa.make_image_patches(sdata, patch_width=1200, patch_overlap=50)"
   ]
  },
  {
   "cell_type": "markdown",
   "metadata": {},
   "source": [
    "The following channels are available for segmentation. Choose one or two channels used by Cellpose."
   ]
  },
  {
   "cell_type": "code",
   "execution_count": 35,
   "metadata": {},
   "outputs": [
    {
     "data": {
      "text/plain": [
       "array(['DAPI', 'CK', 'CD3', 'CD20'], dtype='<U4')"
      ]
     },
     "execution_count": 35,
     "metadata": {},
     "output_type": "execute_result"
    }
   ],
   "source": [
    "sopa.utils.get_channel_names(sdata)"
   ]
  },
  {
   "cell_type": "markdown",
   "metadata": {},
   "source": [
    "Then, we run Cellpose. Here, we run segmentation using DAPI only, and we set the cell diameter to be about `35` pixels.\n",
    "> NB: to make is faster, we can set a parallelization backend as below."
   ]
  },
  {
   "cell_type": "code",
   "execution_count": 38,
   "metadata": {},
   "outputs": [],
   "source": [
    "# optional: set the parallelization backend to use dask\n",
    "sopa.settings.parallelization_backend = \"dask\""
   ]
  },
  {
   "cell_type": "code",
   "execution_count": 39,
   "metadata": {},
   "outputs": [
    {
     "name": "stderr",
     "output_type": "stream",
     "text": [
      "\u001b[33;20m[WARNING] (sopa._settings)\u001b[0m Running without parallelization backend can be slow. Consider using a backend, e.g. `sopa.settings.parallelization_backend = 'dask'`.\n",
      "100%|██████████| 4/4 [00:36<00:00,  9.01s/it]\n",
      "\u001b[36;20m[INFO] (sopa.segmentation.stainings)\u001b[0m Found 411 total cells\n",
      "Resolving conflicts: 100%|██████████| 126/126 [00:00<00:00, 8490.63it/s]\n",
      "\u001b[36;20m[INFO] (sopa.segmentation.stainings)\u001b[0m Added 372 cell boundaries in sdata['cellpose_boundaries']\n"
     ]
    }
   ],
   "source": [
    "sopa.segmentation.cellpose(sdata, channels=[\"DAPI\"], diameter=35)"
   ]
  },
  {
   "cell_type": "markdown",
   "metadata": {},
   "source": [
    "### Option 2: Baysor"
   ]
  },
  {
   "cell_type": "markdown",
   "metadata": {},
   "source": [
    "Baysor needs a config to be executed. You can find official config examples [here](https://github.com/kharchenkolab/Baysor/tree/master/configs). You can also reuse the Baysor parameter we have defined for each machine, as in our [Snakemake config files](https://github.com/gustaveroussy/sopa/tree/master/workflow/config).\n",
    "\n",
    "For this tutorial, we will use the config as a dictionnary. Instead, you can also create a `.toml` config file and use the `config_path` argument inside the `sopa.segmentation.baysor` function below."
   ]
  },
  {
   "cell_type": "code",
   "execution_count": 4,
   "metadata": {},
   "outputs": [],
   "source": [
    "config = {\n",
    "    \"data\": {\n",
    "        \"force_2d\": True,\n",
    "        \"min_molecules_per_cell\": 10,\n",
    "        \"x\": \"x\",\n",
    "        \"y\": \"y\",\n",
    "        \"z\": \"z\",\n",
    "        \"gene\": \"genes\",\n",
    "        \"min_molecules_per_gene\": 0,\n",
    "        \"min_molecules_per_segment\": 3,\n",
    "        \"confidence_nn_id\": 6\n",
    "    },\n",
    "    \"segmentation\": {\n",
    "        \"scale\": 3,  # Important parameter: typical cell diameter, in microns (see our configs)\n",
    "        \"scale_std\": \"25%\",\n",
    "        \"prior_segmentation_confidence\": 0,\n",
    "        \"estimate_scale_from_centers\": False,\n",
    "        \"n_clusters\": 4,\n",
    "        \"iters\": 500,\n",
    "        \"n_cells_init\": 0,\n",
    "        \"nuclei_genes\": \"\",\n",
    "        \"cyto_genes\": \"\",\n",
    "    }\n",
    "}"
   ]
  },
  {
   "cell_type": "markdown",
   "metadata": {},
   "source": [
    "Before actually running Baysor, we generate the bounding boxes of the patches on which Baysor will be run. Here, the patches have a width and height of 3000 microns and an overlap of 50 microns. We advise bigger sizes for real datasets (see our default parameters in one of our [config files](https://github.com/gustaveroussy/sopa/tree/master/workflow/config))."
   ]
  },
  {
   "cell_type": "code",
   "execution_count": 23,
   "metadata": {},
   "outputs": [
    {
     "name": "stderr",
     "output_type": "stream",
     "text": [
      "\u001b[36;20m[INFO] (sopa.patches.patches)\u001b[0m Writing sub-CSV for transcript segmentation\n"
     ]
    },
    {
     "name": "stdout",
     "output_type": "stream",
     "text": [
      "[########################################] | 100% Completed | 358.78 ms\n"
     ]
    },
    {
     "name": "stderr",
     "output_type": "stream",
     "text": [
      "\u001b[36;20m[INFO] (sopa.patches.patches)\u001b[0m 1 patche(s) saved in directory /Users/quentinblampey/.sopa_cache/855462a3-f042-462d-9cf1-5edf52c4439f/transcript_patches\n",
      "/Users/quentinblampey/dev/_external/spatialdata/src/spatialdata/_core/_elements.py:96: UserWarning: Key `sopa_patches_transcripts` already exists. Overwriting it in-memory.\n",
      "  self._check_key(key, self.keys(), self._shared_keys)\n"
     ]
    }
   ],
   "source": [
    "sopa.make_transcript_patches(sdata, patch_width=500)"
   ]
  },
  {
   "cell_type": "markdown",
   "metadata": {},
   "source": [
    "Then, we can run Baysor on each patch, and combine the results.\n",
    "\n",
    "> NB: to make is faster, we can set a parallelization backend as below."
   ]
  },
  {
   "cell_type": "code",
   "execution_count": 6,
   "metadata": {},
   "outputs": [],
   "source": [
    "# optional: set the parallelization backend to use dask\n",
    "sopa.settings.parallelization_backend = \"dask\""
   ]
  },
  {
   "cell_type": "code",
   "execution_count": 7,
   "metadata": {},
   "outputs": [
    {
     "name": "stderr",
     "output_type": "stream",
     "text": [
      "\u001b[36;20m[INFO] (sopa._settings)\u001b[0m Using dask backend\n"
     ]
    },
    {
     "name": "stdout",
     "output_type": "stream",
     "text": [
      "[########################################] | 100% Completed |  6min 11.4s\u001b[2K\r"
     ]
    },
    {
     "name": "stderr",
     "output_type": "stream",
     "text": [
      "\u001b[36;20m[INFO] (sopa.segmentation.transcripts)\u001b[0m Cells whose area is less than 10 microns^2 will be removed\n",
      "Reading transcript-segmentation outputs:   0%|          | 0/16 [00:00<?, ?it/s]/Users/quentinblampey/Library/Caches/pypoetry/virtualenvs/sopa-hDHgkEug-py3.9/lib/python3.9/site-packages/numba/np/ufunc/parallel.py:371: NumbaWarning: \u001b[1mThe TBB threading layer requires TBB version 2021 update 6 or later i.e., TBB_INTERFACE_VERSION >= 12060. Found TBB_INTERFACE_VERSION = 12050. The TBB threading layer is disabled.\u001b[0m\n",
      "  warnings.warn(problem)\n",
      "OMP: Info #276: omp_set_nested routine deprecated, please use omp_set_max_active_levels instead.\n",
      "Reading transcript-segmentation outputs: 100%|██████████| 16/16 [00:01<00:00, 13.66it/s]\n",
      "Resolving conflicts: 100%|██████████| 4150/4150 [00:00<00:00, 10254.79it/s]\n",
      "\u001b[36;20m[INFO] (sopa.segmentation.transcripts)\u001b[0m Aggregating transcripts on merged cells\n",
      "\u001b[36;20m[INFO] (sopa.aggregation.transcripts)\u001b[0m Aggregating transcripts over 321 cells\n"
     ]
    },
    {
     "name": "stdout",
     "output_type": "stream",
     "text": [
      "[########################################] | 100% Completed | 217.92 ms\n"
     ]
    },
    {
     "name": "stderr",
     "output_type": "stream",
     "text": [
      "\u001b[36;20m[INFO] (sopa.segmentation.transcripts)\u001b[0m Added sdata.tables['table'], and 376 cell boundaries to sdata['baysor_boundaries']\n"
     ]
    }
   ],
   "source": [
    "sopa.segmentation.baysor(sdata, config=config, min_area=10)"
   ]
  },
  {
   "cell_type": "markdown",
   "metadata": {},
   "source": [
    "## Aggregation\n",
    "\n",
    "The purpose of aggregation is to create an `AnnData` object of features per cell. Depending on your technology, it will count the transcript/bins inside each cell, and/or average each channel intensity inside each cell boundary.\n",
    "\n",
    "More specifically:\n",
    "- For bins technologies like Visium HD data: for each cell, it will sum the transcript counts of all bins that are touching this cell.\n",
    "- For transcript-based technologies like MERSCOPE/Xenium, it will count the transcripts inside each cells, and optionally average the channel intensities\n",
    "- For multiplex imaging data, it will average the intensity of each channel inside each cell"
   ]
  },
  {
   "cell_type": "code",
   "execution_count": 40,
   "metadata": {},
   "outputs": [
    {
     "name": "stderr",
     "output_type": "stream",
     "text": [
      "\u001b[36;20m[INFO] (sopa.aggregation.transcripts)\u001b[0m Aggregating transcripts over 372 cells\n"
     ]
    },
    {
     "name": "stdout",
     "output_type": "stream",
     "text": [
      "[########################################] | 100% Completed | 104.99 ms\n"
     ]
    },
    {
     "name": "stderr",
     "output_type": "stream",
     "text": [
      "\u001b[36;20m[INFO] (sopa.aggregation.channels)\u001b[0m Averaging channels intensity over 372 cells with expansion expand_radius_ratio=0\n"
     ]
    },
    {
     "name": "stdout",
     "output_type": "stream",
     "text": [
      "[########################################] | 100% Completed | 107.59 ms\n"
     ]
    },
    {
     "name": "stderr",
     "output_type": "stream",
     "text": [
      "\u001b[36;20m[INFO] (sopa.aggregation.aggregation)\u001b[0m Filtering 0 cells\n",
      "/Users/quentinblampey/dev/sopa/sopa/aggregation/aggregation.py:167: ImplicitModificationWarning: Setting element `.obsm['intensities']` of view, initializing view as actual.\n",
      "  self.table.obsm[SopaKeys.INTENSITIES_OBSM] = pd.DataFrame(\n",
      "/Users/quentinblampey/dev/_external/spatialdata/src/spatialdata/_core/_elements.py:96: UserWarning: Key `cellpose_boundaries` already exists. Overwriting it in-memory.\n",
      "  self._check_key(key, self.keys(), self._shared_keys)\n"
     ]
    }
   ],
   "source": [
    "sopa.aggregate(sdata)"
   ]
  },
  {
   "cell_type": "markdown",
   "metadata": {},
   "source": [
    "Now, in the `SpatialData` object, there is a `\"table\"` element (which is an `AnnData` object, see below)."
   ]
  },
  {
   "cell_type": "code",
   "execution_count": 41,
   "metadata": {},
   "outputs": [
    {
     "data": {
      "text/plain": [
       "AnnData object with n_obs × n_vars = 372 × 6\n",
       "    obs: 'region', 'slide', 'cell_id', 'area'\n",
       "    uns: 'sopa_attrs', 'spatialdata_attrs'\n",
       "    obsm: 'intensities', 'spatial'"
      ]
     },
     "execution_count": 41,
     "metadata": {},
     "output_type": "execute_result"
    }
   ],
   "source": [
    "adata = sdata[\"table\"]\n",
    "adata"
   ]
  },
  {
   "cell_type": "markdown",
   "metadata": {},
   "source": [
    "What's inside adata depends on your technology:\n",
    "- If you have transcripts/bins, then `adata.X` are the raw counts\n",
    "- Else, `adata.X` are the channels intensities\n",
    "- If you both count the transcript/bins and average the intensities, then `adata.X` are the raw counts, and `adata.obsm[\"intensities\"]` are the channels intensities (as above)"
   ]
  },
  {
   "cell_type": "markdown",
   "metadata": {},
   "source": [
    "## Annotation\n",
    "\n",
    "Annotation within Sopa is totally optionnal. These annotations tools were optimized for annotation of large data, but feel free to perform your own.\n",
    "\n",
    "#### Option 1: Transcript-based (Tangram)\n",
    "\n",
    "[Tangram](https://github.com/broadinstitute/Tangram) is a transcript-based annotation that uses an annotated single-cell reference. Let's suppose your reference `AnnData` object is stored in a file called `adata_reference.h5ad` (preferably, keep raw counts), and the cell type is in `adata.obs[\"cell_type\"]`. Then, you can annotate your spatial data as follows:"
   ]
  },
  {
   "cell_type": "code",
   "execution_count": null,
   "metadata": {},
   "outputs": [],
   "source": [
    "import anndata\n",
    "\n",
    "adata_reference = anndata.read_h5ad(\"adata_reference.h5ad\")\n",
    "\n",
    "sopa.utils.tangram_annotate(sdata, adata_reference, \"cell_type\")"
   ]
  },
  {
   "cell_type": "markdown",
   "metadata": {},
   "source": [
    "#### Option 2: Staining-based\n",
    "For now, our fluorescence-based annotation is very simple. We provide a dictionary where a channel is associated with a population. Then, each cell is associated with the cell type whose corresponding channel is the brightest (according to a certain Z-score). In this tutorial example, we can annotate Tumoral cells, T cells, and B cells:"
   ]
  },
  {
   "cell_type": "code",
   "execution_count": 42,
   "metadata": {},
   "outputs": [
    {
     "name": "stderr",
     "output_type": "stream",
     "text": [
      "\u001b[36;20m[INFO] (sopa.utils.annotation)\u001b[0m Annotation counts: cell_type\n",
      "Tumoral cell    129\n",
      "T cell          123\n",
      "B cell          120\n",
      "Name: count, dtype: int64\n"
     ]
    }
   ],
   "source": [
    "marker_cell_dict = {\n",
    "    \"CK\": \"Tumoral cell\",\n",
    "    \"CD20\": \"B cell\",\n",
    "    \"CD3\": \"T cell\"\n",
    "}\n",
    "\n",
    "sopa.utils.higher_z_score(sdata.tables[\"table\"], marker_cell_dict)"
   ]
  },
  {
   "cell_type": "markdown",
   "metadata": {},
   "source": [
    "## Visualization\n",
    "\n",
    "Many visualization tools can be used. Here, we show three of them, with different capabilities.\n",
    "\n",
    "### With napari-spatialdata\n",
    "\n",
    "[`napari-spatialdata`](https://github.com/scverse/napari-spatialdata) is a plugin for [Napari](https://napari.org/stable/) developed to visualize your SpatialData objects.\n",
    "\n",
    "This visualizer is very flexible, as you can display any spatial element, and you can directly save annotations from Napari in your SpatialData object."
   ]
  },
  {
   "cell_type": "markdown",
   "metadata": {},
   "source": [
    "### With the Xenium Explorer\n",
    "\n",
    "The Xenium Explorer is a software developed by 10X Genomics for visualizing spatial data, and it can be downloaded freely [here](https://www.10xgenomics.com/support/software/xenium-explorer/latest). This is the most user-friendly visualizer of the three, but it may not show all the spatial element from your `SpatialData` object (it only shows images, transcripts, and cell boundaries).\n",
    "\n",
    "Sopa allows the conversion to the Xenium Explorer, whatever the type of spatial data you worked on.\n",
    "\n",
    "The command below creates some files under a new `tuto.explorer` directory:"
   ]
  },
  {
   "cell_type": "code",
   "execution_count": 12,
   "metadata": {},
   "outputs": [
    {
     "name": "stderr",
     "output_type": "stream",
     "text": [
      "\u001b[36;20m[INFO] (sopa.io.explorer.table)\u001b[0m Writing table with 5 columns\n",
      "\u001b[36;20m[INFO] (sopa.io.explorer.table)\u001b[0m Writing 3 cell categories: region, slide, cell_type\n",
      "\u001b[36;20m[INFO] (sopa.io.explorer.shapes)\u001b[0m Writing 367 cell polygons\n",
      "\u001b[36;20m[INFO] (sopa.io.explorer.points)\u001b[0m Writing 40000 transcripts\n",
      "\u001b[36;20m[INFO] (sopa.io.explorer.points)\u001b[0m    > Level 0: 40000 transcripts\n",
      "\u001b[36;20m[INFO] (sopa.io.explorer.points)\u001b[0m    > Level 1: 10000 transcripts\n",
      "\u001b[36;20m[INFO] (sopa.io.explorer.images)\u001b[0m Writing multiscale image with procedure=semi-lazy (load in memory when possible)\n",
      "\u001b[36;20m[INFO] (sopa.io.explorer.images)\u001b[0m    (Loading image of shape (4, 2048, 2048)) in memory\n",
      "\u001b[36;20m[INFO] (sopa.io.explorer.images)\u001b[0m    > Image of shape (4, 2048, 2048)\n",
      "\u001b[36;20m[INFO] (sopa.io.explorer.images)\u001b[0m    > Image of shape (4, 1024, 1024)\n",
      "\u001b[36;20m[INFO] (sopa.io.explorer.images)\u001b[0m    > Image of shape (4, 512, 512)\n",
      "\u001b[36;20m[INFO] (sopa.io.explorer.images)\u001b[0m    > Image of shape (4, 256, 256)\n",
      "\u001b[36;20m[INFO] (sopa.io.explorer.images)\u001b[0m    > Image of shape (4, 128, 128)\n",
      "\u001b[36;20m[INFO] (sopa.io.explorer.images)\u001b[0m    > Image of shape (4, 64, 64)\n",
      "\u001b[36;20m[INFO] (sopa.io.explorer.converter)\u001b[0m Saved files in the following directory: tuto.explorer\n",
      "\u001b[36;20m[INFO] (sopa.io.explorer.converter)\u001b[0m You can open the experiment with 'open tuto.explorer/experiment.xenium'\n"
     ]
    }
   ],
   "source": [
    "sopa.io.write(\"tuto.explorer\", sdata, image_key, points_key=points_key, gene_column=gene_column)"
   ]
  },
  {
   "cell_type": "markdown",
   "metadata": {},
   "source": [
    "If you have downloaded the Xenium Explorer, you can now open the results in the explorer: simply double-click on the `tuto.explorer/experiment.xenium` file."
   ]
  },
  {
   "cell_type": "markdown",
   "metadata": {},
   "source": [
    "### With spatialdata-plot\n",
    "[`spatialdata-plot`](https://github.com/scverse/spatialdata-plot) library is a static plotting library for `SpatialData` objects. This solution is very convenient when working in Jupyter Notebooks."
   ]
  },
  {
   "cell_type": "code",
   "execution_count": 43,
   "metadata": {},
   "outputs": [],
   "source": [
    "import spatialdata_plot # you can install it via `pip install spatialdata-plot`"
   ]
  },
  {
   "cell_type": "code",
   "execution_count": 51,
   "metadata": {},
   "outputs": [
    {
     "name": "stdout",
     "output_type": "stream",
     "text": [
      "\u001b[34mINFO    \u001b[0m Value for parameter \u001b[32m'color'\u001b[0m appears to be a color, using it as such.                                      \n"
     ]
    },
    {
     "name": "stderr",
     "output_type": "stream",
     "text": [
      "/Users/quentinblampey/mambaforge/envs/sopa/lib/python3.10/site-packages/anndata/_core/aligned_df.py:67: ImplicitModificationWarning: Transforming to str index.\n",
      "  warnings.warn(\"Transforming to str index.\", ImplicitModificationWarning)\n",
      "/Users/quentinblampey/dev/_external/spatialdata/src/spatialdata/_core/_elements.py:106: UserWarning: Key `transcripts` already exists. Overwriting it in-memory.\n",
      "  self._check_key(key, self.keys(), self._shared_keys)\n"
     ]
    },
    {
     "data": {
      "image/png": "[encoded data removed]",
      "text/plain": [
       "<Figure size 640x480 with 1 Axes>"
      ]
     },
     "metadata": {},
     "output_type": "display_data"
    }
   ],
   "source": [
    "sdata\\\n",
    "    .pl.render_images()\\\n",
    "    .pl.render_points(size=0.01, color=\"#ffffff\", alpha=0.5)\\\n",
    "    .pl.render_shapes(\"cellpose_boundaries\", outline=True, fill_alpha=0, outline_color=\"k\")\\\n",
    "    .pl.show(\"global\")"
   ]
  },
  {
   "cell_type": "markdown",
   "metadata": {},
   "source": [
    "## Pipeline report\n",
    "You can optionally create an HTML report of the pipeline run (in the example below, we save it under `report.html`). It contains some quality controls for your data."
   ]
  },
  {
   "cell_type": "code",
   "execution_count": 53,
   "metadata": {},
   "outputs": [
    {
     "name": "stderr",
     "output_type": "stream",
     "text": [
      "\u001b[36;20m[INFO] (sopa.io.report.generate)\u001b[0m Writing general_section\n",
      "\u001b[36;20m[INFO] (sopa.io.report.generate)\u001b[0m Writing cell_section\n",
      "\u001b[36;20m[INFO] (sopa.io.report.generate)\u001b[0m Writing channel_section\n",
      "\u001b[36;20m[INFO] (sopa.io.report.generate)\u001b[0m Writing transcripts_section\n",
      "\u001b[36;20m[INFO] (sopa.io.report.generate)\u001b[0m Writing representation_section\n",
      "\u001b[36;20m[INFO] (sopa.io.report.generate)\u001b[0m Computing UMAP on 372 cells\n",
      "OMP: Info #276: omp_set_nested routine deprecated, please use omp_set_max_active_levels instead.\n",
      "\u001b[36;20m[INFO] (sopa.io.report.generate)\u001b[0m Writing report to report.html\n"
     ]
    }
   ],
   "source": [
    "sopa.io.write_report(\"report.html\", sdata)"
   ]
  },
  {
   "cell_type": "markdown",
   "metadata": {},
   "source": [
    "## Further analyses\n",
    "\n",
    "If not done yet, you can save your SpatialData object, as below. It will create a `.zarr` directory."
   ]
  },
  {
   "cell_type": "code",
   "execution_count": null,
   "metadata": {},
   "outputs": [],
   "source": [
    "sdata.write(\"tuto.zarr\")"
   ]
  },
  {
   "cell_type": "markdown",
   "metadata": {},
   "source": [
    "This way, you'll be able to open it later for further analysis, using `spatialdata.read_zarr(\"tuto.zarr\")`.\n",
    "\n",
    "Now, here is a list of ressources you may consider to go further:\n",
    "- [This tutorial](../spatial) on spatial statistic and geometric analysis.\n",
    "- Use [Squidpy](https://squidpy.readthedocs.io/en/latest/index.html) which operates on both the `SpatialData` object or the `AnnData` object, or use other tools of the `scverse` ecosystem such as [`Scanpy`](https://scanpy.readthedocs.io/en/stable/index.html).\n",
    "- You can also try the CLI or the Snakemake pipeline of Sopa."
   ]
  }
 ],
 "metadata": {
  "kernelspec": {
   "display_name": "sopa-hDHgkEug-py3.10",
   "language": "python",
   "name": "python3"
  },
  "language_info": {
   "codemirror_mode": {
    "name": "ipython",
    "version": 3
   },
   "file_extension": ".py",
   "mimetype": "text/x-python",
   "name": "python",
   "nbconvert_exporter": "python",
   "pygments_lexer": "ipython3",
   "version": "3.10.14"
  }
 },
 "nbformat": 4,
 "nbformat_minor": 2
}
